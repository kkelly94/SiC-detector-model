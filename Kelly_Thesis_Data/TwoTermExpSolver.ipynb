{
 "cells": [
  {
   "cell_type": "code",
   "execution_count": null,
   "id": "5c01aace",
   "metadata": {},
   "outputs": [],
   "source": [
    "sp = openmc.StatePoint('statepoint.100.h5')\n",
    "tally=sp.get_tally(['flux'])\n",
    "flux = tally.get_slice(scores=['flux'])"
   ]
  },
  {
   "cell_type": "code",
   "execution_count": null,
   "id": "7211d3fa",
   "metadata": {},
   "outputs": [],
   "source": [
    "import numpy as np\n",
    "from scipy.optimize import newton\n",
    "from scipy.optimize import root_scalar\n",
    "from scipy.optimize import fsolve\n",
    "def equation(x, y):\n",
    "    return (7.234e+14)*np.exp(-.3311*x) + (-7.229e+14)*np.exp(-0.3318*x) - y\n",
    "\n",
    "def bisection_method(f, a, b, y, epsilon=1e-6):\n",
    "    # if f(a, y) * f(b, y) >= 0:\n",
    "    #     raise ValueError(\"The function must have opposite signs at the endpoints.\")\n",
    "\n",
    "    while abs(b - a) > epsilon:\n",
    "        c = (a + b) / 2\n",
    "        if f(c, y) == 0:\n",
    "            return c\n",
    "        elif f(a, y) * f(c, y) < 0:\n",
    "            b = c\n",
    "        else:\n",
    "            a = c\n",
    "\n",
    "    return (a + b) / 2\n",
    "\n",
    "# Solve for x using the bisection method\n",
    "y = 8.75e10\n",
    "a = 0  # Lower bound of x\n",
    "b = 40.0  # Upper bound of x\n",
    "\n",
    "solution = bisection_method(equation, a, b, y)\n",
    "\n",
    "print(\"Approximate solution for x:\", solution)\n"
   ]
  },
  {
   "cell_type": "code",
   "execution_count": null,
   "id": "c1012cc3",
   "metadata": {},
   "outputs": [],
   "source": [
    "import math\n",
    "df = flux.get_pandas_dataframe()\n",
    "df.drop(df.index[515000:1000000], inplace=True)\n",
    "df.drop(df.index[0:514960], inplace=True)\n",
    "df.loc[:,'mean'] *= 7.36E16/447.94\n",
    "df['mean'] = df['mean'].apply(lambda x: x*0 if x < 5.39e9 else x)\n",
    "df['mean'] = df['mean'].apply(lambda x: bisection_method(equation, 2.03, 100, (7.48e11/(x/5.39e9))) if x != 0 else 0)\n",
    "print(df)"
   ]
  }
 ],
 "metadata": {
  "kernelspec": {
   "display_name": "Python 3 (ipykernel)",
   "language": "python",
   "name": "python3"
  },
  "language_info": {
   "codemirror_mode": {
    "name": "ipython",
    "version": 3
   },
   "file_extension": ".py",
   "mimetype": "text/x-python",
   "name": "python",
   "nbconvert_exporter": "python",
   "pygments_lexer": "ipython3",
   "version": "3.9.7"
  }
 },
 "nbformat": 4,
 "nbformat_minor": 5
}
