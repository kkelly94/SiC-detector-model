{
 "cells": [
  {
   "cell_type": "code",
   "execution_count": 9,
   "id": "999b952b",
   "metadata": {},
   "outputs": [],
   "source": [
    "import h5py\n",
    "import numpy as np\n",
    "import matplotlib.pyplot as plt\n",
    "import matplotlib.cm\n",
    "from matplotlib.patches import Rectangle\n",
    "import pandas as pd\n",
    "import random\n",
    "from matplotlib.ticker import ScalarFormatter"
   ]
  },
  {
   "cell_type": "code",
   "execution_count": 2,
   "id": "bb4ca4da",
   "metadata": {},
   "outputs": [],
   "source": [
    "def read_text_file(file_path, delimiter='\\s+', header=None):\n",
    "    dataframe = pd.read_csv(file_path, delimiter=delimiter, header=header)\n",
    "    return dataframe"
   ]
  },
  {
   "cell_type": "code",
   "execution_count": 3,
   "id": "acca7449",
   "metadata": {},
   "outputs": [],
   "source": [
    "def construct_particle(Energy, particletype, xmin, xmax, r):\n",
    "    H3mass=3.02382\n",
    "    alphamass=4.001506\n",
    "    ret=[]\n",
    "    #note Qvalue is (14.087+8.071-2.425-14.95=4.783 MeV)\n",
    "    if particletype==\"t\":\n",
    "        outgoingenergy=(4.783+Energy)*alphamass/(H3mass+alphamass)\n",
    "    if particletype==\"a\":\n",
    "        outgoingenergy=(4.783+Energy)*H3mass/(H3mass+alphamass)\n",
    "    xi=np.random.uniform(0, 1)\n",
    "    macro=10   \n",
    "    x=xi*xmax*.98\n",
    "#     -np.log(xi)/macro    #np.random.uniform(xmax*.3, xmax*.7) #not xsec based for now\n",
    "#     if x>xmax:\n",
    "#       x=xmax*.99\n",
    "    y=np.random.uniform(0, r)\n",
    "    z=np.random.uniform(0,((r**2-y**2)**(1/2)))\n",
    "    position=[x,y,z]\n",
    "    position=np.asarray(position)\n",
    "    xhat=np.random.uniform(0,1) #one of the particles will go in +x direction\n",
    "    yhat=np.random.uniform(-1,1)\n",
    "    zhat=np.random.uniform(-1,1)\n",
    "    normal = [xhat, yhat, zhat]\n",
    "    normal=np.asarray(normal)\n",
    "    normal=np.multiply(normal,(1/np.linalg.norm(normal)))\n",
    "    ret.append(position)\n",
    "    ret.append(normal)\n",
    "    ret.append(np.asarray([outgoingenergy]))\n",
    "    return np.asarray(ret)"
   ]
  },
  {
   "cell_type": "code",
   "execution_count": 4,
   "id": "81fe7d53",
   "metadata": {},
   "outputs": [],
   "source": [
    "#ex: formula of the form [2,1] for Z of [1,8] to make H2O. M is molar mass\n",
    "def meanExcitationEnergy(Z, M, formula, density):\n",
    "    I=[]\n",
    "    N=[]\n",
    "    moleculeI=0\n",
    "    counter=0\n",
    "    for i in Z:\n",
    "        if i==1:\n",
    "            I.append(19)\n",
    "        if i>1 and i<13:\n",
    "            I.append(11.2+11.7*i)\n",
    "        if i>13:\n",
    "            I.append(52.8+8.81*i)\n",
    "        N.append(density/(M)*6.023E23*formula[counter]*i)\n",
    "        moleculeI+=(np.log(I[counter])*N[counter])\n",
    "        counter+=1\n",
    "    Ncompound=np.sum(N)\n",
    "    moleculeI=moleculeI/Ncompound\n",
    "    moleculeI=np.exp(moleculeI)\n",
    "    ret=[]\n",
    "    ret.append(moleculeI)\n",
    "    ret.append(Ncompound)\n",
    "    return np.asarray(ret)"
   ]
  },
  {
   "cell_type": "code",
   "execution_count": 5,
   "id": "48c7e6ec",
   "metadata": {},
   "outputs": [],
   "source": [
    "#provide Energy in MeV\n",
    "def collisionalSPSiC(Energy, z):\n",
    "    mEE=meanExcitationEnergy([14,6], 40, [1,1], 3.22)\n",
    "#     z=2 #2 for alpha\n",
    "    r_0=2.818e-13\n",
    "    electronrestmass=0.511\n",
    "    Beta=((1 - (3727 /(Energy+3727))**2)**(1/2)) #3727 is the mass of an alpha particle in MeV*c^2\n",
    "    I=mEE[0]\n",
    "    N=mEE[1]\n",
    "    logterm=(np.log(2*.511e6*Beta**2/(I*(1-Beta**2)))-Beta**2)\n",
    "    return 4*np.pi*(z**2)*(r_0**2)*electronrestmass*(Beta**(-2))*N*logterm"
   ]
  },
  {
   "cell_type": "code",
   "execution_count": 6,
   "id": "ecba7188",
   "metadata": {},
   "outputs": [],
   "source": [
    "def collisionalSPLiF(Energy, z):\n",
    "    mEE=meanExcitationEnergy([3,9], 25, [1,1], 2.64)\n",
    "#     z=2 #2 for alpha\n",
    "    r_0=2.818e-13\n",
    "    electronrestmass=0.511\n",
    "    Beta=((1 - (3727 /(Energy+3727))**2)**(1/2)) #3727 is the mass of an alpha particle in MeV*c^2\n",
    "    I=mEE[0]\n",
    "    N=mEE[1]\n",
    "    logterm=(np.log(2*.511e6*Beta**2/(I*(1-Beta**2)))-Beta**2)\n",
    "    return 4*np.pi*(z**2)*(r_0**2)*electronrestmass*(Beta**(-2))*N*logterm"
   ]
  },
  {
   "cell_type": "code",
   "execution_count": 7,
   "id": "f122c70c",
   "metadata": {},
   "outputs": [],
   "source": [
    "def energyDeposited(incidentenergy, particletype, xmin, xmax, r): #xmax here is the max for the LiF layer only\n",
    "  coinflip=random.randint(1,2) #triton and alpha are generated at the same time in opp. directions\n",
    "  if coinflip==2:\n",
    "    particletype='a'\n",
    "  particle=construct_particle(incidentenergy/1e6, particletype, xmin, xmax, r)\n",
    "  if particletype=='t':\n",
    "    z=1\n",
    "  if particletype=='a':\n",
    "    z=2\n",
    "  dEdx = collisionalSPLiF(particle[2][0], z)\n",
    "\n",
    "  Range= particle[2][0]/dEdx\n",
    "  final_pos=np.multiply(Range,particle[1])+particle[0] #add straggle error later maybe\n",
    "  LiFmax=(detectorx1-detectorx0) #LiF layer max\n",
    "  SiCmax=(detectorx3-detectorx0) #ACTIVE SiC layer max\n",
    "#r=.2481 inherited\n",
    "  if final_pos[0]>LiFmax:\n",
    "\n",
    "    #path length in LiF\n",
    "      scalar=(LiFmax-particle[0][0])/particle[1][0]\n",
    "      LiF_pos=np.multiply(scalar,particle[1])+particle[0]\n",
    "      LiFpath=((LiF_pos[0]-particle[0][0])**2+(LiF_pos[1]-particle[0][1])**2+(LiF_pos[2]-particle[0][2])**2)**(1/2)\n",
    "      RemainingEnergy = particle[2][0]-(LiFpath*dEdx)\n",
    "      dEdx = collisionalSPSiC(RemainingEnergy, z)\n",
    "      Range= RemainingEnergy/dEdx\n",
    "      final_pos=np.multiply(Range,particle[1])+LiF_pos\n",
    "    \n",
    "    #total path length\n",
    "      path=(((final_pos[0]-LiF_pos[0])**2+(final_pos[1]-LiF_pos[1])**2+(final_pos[2]-LiF_pos[2])**2)**(1/2))\n",
    "      #print (path)\n",
    "      if final_pos[0]>SiCmax:\n",
    "        scalar3=(SiCmax-particle[0][0])/particle[1][0]\n",
    "        SiC_pos=np.multiply(scalar3,particle[1])+particle[0]\n",
    "        SiCpath=((SiC_pos[0]-LiF_pos[0])**2+(SiC_pos[1]-LiF_pos[1])**2+(SiC_pos[2]-LiF_pos[2])**2)**(1/2)\n",
    "        path=SiCpath\n",
    "       \n",
    "    #path length to detector boundary\n",
    "      a=particle[0][1]\n",
    "      b=particle[1][1]\n",
    "      c=particle[0][2]\n",
    "      d=particle[1][2]\n",
    "      e=(b**2+d**2) #e x^2\n",
    "      f=2*(a*b+c*d) #f x\n",
    "      g=(a**2+c**2-r**2) #g\n",
    "      if ((final_pos[1]**2+final_pos[2]**2)**(1/2))>r:\n",
    "          scalar2=(-f+(f**2-4*e*g)**(1/2))/(2*e)\n",
    "          #print(scalar2)\n",
    "          detector_pos=np.multiply(scalar2,particle[1])+particle[0]\n",
    "          detectorpath=((detector_pos[0]-particle[0][0])**2+(detector_pos[1]-particle[0][1])**2+(detector_pos[2]-particle[0][2])**2)**(1/2)\n",
    "          if LiF_pos[0] > detector_pos[0]:\n",
    "            path = 0\n",
    "          else:\n",
    "            path=detectorpath-LiFpath\n",
    "    #energy deposition\n",
    "      energy_deposited= path*dEdx\n",
    "      if dEdx<0:\n",
    "          energy_deposited=RemainingEnergy\n",
    "  else:\n",
    "    energy_deposited=0\n",
    "  if energy_deposited < 0:\n",
    "    print (path)\n",
    "#     print (final_pos[0]>LiFmax)\n",
    "# #     print (RemainingEnergy)\n",
    "#     print (dEdx)\n",
    "#     print (final_pos)\n",
    "#     print (LiF_pos)\n",
    "#     print (Range)\n",
    "# #     print (particle[2][0])\n",
    "# #     print (energy_deposited, Range*dEdx)\n",
    "  return (energy_deposited*1E6)"
   ]
  },
  {
   "cell_type": "code",
   "execution_count": 10,
   "id": "784e36ed",
   "metadata": {},
   "outputs": [
    {
     "data": {
      "image/png": "[encoded data removed]",
      "text/plain": [
       "<Figure size 432x288 with 1 Axes>"
      ]
     },
     "metadata": {
      "needs_background": "light"
     },
     "output_type": "display_data"
    },
    {
     "name": "stdout",
     "output_type": "stream",
     "text": [
      "135\n",
      "392\n",
      "57854\n",
      "80054\n",
      "265632\n",
      "239173\n"
     ]
    }
   ],
   "source": [
    "file_path = 'C:/Users/kevak/Desktop/pastLi.txt'\n",
    "\n",
    "df = read_text_file(file_path)\n",
    "column_names = ['group', 'upper energy', 'value', 'uncertainty', 'rel']\n",
    "df.columns = column_names\n",
    "df=df.drop('group', axis=1)\n",
    "\n",
    "file_path = 'C:/Users/kevak/Desktop/pastphoton.txt'\n",
    "\n",
    "df2 = read_text_file(file_path)\n",
    "column_names = ['group', 'upper energy', 'value', 'uncertainty', 'rel']\n",
    "df2.columns = column_names\n",
    "\n",
    "file_path = 'C:/Users/kevak/Desktop/pastabs.txt'\n",
    "\n",
    "df3 = read_text_file(file_path)\n",
    "column_names = ['group', 'upper energy', 'value', 'uncertainty', 'rel']\n",
    "df3.columns = column_names\n",
    "\n",
    "detectorx0=89\n",
    "detectorx1=detectorx0+.00028\n",
    "detectorx2=detectorx1+0.0008\n",
    "detectorx3=detectorx2+.015\n",
    "detectorx4=detectorx3+.035\n",
    "detectorx5=detectorx4+.0008\n",
    "radius=.2481\n",
    "speclist =[]\n",
    "\n",
    "for i in df.index:\n",
    "  avgenergy=(df.loc[i, 'upper energy'])\n",
    "  #print (len(df))\n",
    "  for j in range(0, round((df.loc[i, 'value'])/18.7*5.41E-04)):  \n",
    "    #spec = energyDeposited(avgenergy, 't', 0, (detectorx1-detectorx0), radius)\n",
    "    spec = energyDeposited(avgenergy, 't', 0, (detectorx1-detectorx0), radius)\n",
    "    speclist.append(spec)\n",
    "    \n",
    "speclist = np.asarray(speclist)\n",
    "elist = speclist[speclist.nonzero()]\n",
    "roundedlist = np.round(elist, -3)\n",
    "series = pd.Series(roundedlist)\n",
    "counts = series.value_counts().reset_index()\n",
    "counts.columns = ['roundedlist', 'mean']\n",
    "counts['mean']*=1\n",
    "\n",
    "df2 = df2[df2['value'] != 0]\n",
    "df3 = df3[df3['value'] != 0]\n",
    "df2['value']*=2.9E-3\n",
    "df3['value']*=2.9E-3\n",
    "\n",
    "# Create the plot\n",
    "plt.figure()\n",
    "plt.scatter(counts['roundedlist'], counts['mean'], label='Li')\n",
    "plt.scatter(df2['upper energy'], df2['value'], label='photon')\n",
    "plt.scatter(df3['upper energy'], df3['value'], label='absorption')\n",
    "\n",
    "# Add labels and legend\n",
    "plt.xlabel('energy')\n",
    "plt.ylabel('counts')\n",
    "#plt.xscale('log')\n",
    "plt.yscale('log')\n",
    "plt.legend()\n",
    "plt.gca().xaxis.set_major_formatter(ScalarFormatter(useOffset=False))\n",
    "\n",
    "# Show the plot\n",
    "plt.show()\n",
    "\n",
    "filtered = counts[(counts['roundedlist'] >= 1.5e6) & (counts['roundedlist'] <= 2.2e6)]\n",
    "filtered2 = counts[(counts['roundedlist'] >= 2.5e6) & (counts['roundedlist'] <= 3e6)]\n",
    "filtered3 = counts[(counts['roundedlist'] >= 0.3e6)]\n",
    "filtered4 = counts[(counts['roundedlist'] >= 0.9e6)]\n",
    "\n",
    "print (filtered['mean'].max())\n",
    "print (filtered2['mean'].max())\n",
    "print (filtered['mean'].sum())\n",
    "print (filtered2['mean'].sum())\n",
    "print (filtered3['mean'].sum())\n",
    "print (filtered4['mean'].sum())"
   ]
  },
  {
   "cell_type": "code",
   "execution_count": 11,
   "id": "11498d17",
   "metadata": {},
   "outputs": [
    {
     "data": {
      "text/plain": [
       "<function matplotlib.pyplot.show(close=None, block=None)>"
      ]
     },
     "execution_count": 11,
     "metadata": {},
     "output_type": "execute_result"
    },
    {
     "data": {
      "image/png": "[encoded data removed]",
      "text/plain": [
       "<Figure size 432x288 with 1 Axes>"
      ]
     },
     "metadata": {
      "needs_background": "light"
     },
     "output_type": "display_data"
    }
   ],
   "source": [
    "file_path = 'C:/Users/kevak/Desktop/polyflux20.txt'\n",
    "\n",
    "df4 = read_text_file(file_path)\n",
    "column_names = ['group', 'upper energy', 'value', 'uncertainty', 'rel', 'a', 'b', 'c']\n",
    "df4.columns = column_names\n",
    "df4=df4.drop('group', axis=1)\n",
    "df4 = df4[df4['value'] != 0]\n",
    "# Print the dataframe\n",
    "plt.scatter(df4['upper energy'], df4['value'], label='flux')\n",
    "#plt.yscale('log')\n",
    "plt.xscale('log')\n",
    "plt.xlabel('Energy (eV)')\n",
    "plt.ylabel('Flux (n/cm^2-s)')\n",
    "plt.show"
   ]
  },
  {
   "cell_type": "code",
   "execution_count": null,
   "id": "d8be74be",
   "metadata": {},
   "outputs": [],
   "source": []
  },
  {
   "cell_type": "code",
   "execution_count": null,
   "id": "42901e77",
   "metadata": {},
   "outputs": [],
   "source": []
  },
  {
   "cell_type": "code",
   "execution_count": null,
   "id": "df133ce4",
   "metadata": {},
   "outputs": [],
   "source": []
  },
  {
   "cell_type": "code",
   "execution_count": null,
   "id": "d65c34f6",
   "metadata": {},
   "outputs": [],
   "source": []
  },
  {
   "cell_type": "code",
   "execution_count": null,
   "id": "ebc5492c",
   "metadata": {},
   "outputs": [],
   "source": []
  },
  {
   "cell_type": "code",
   "execution_count": null,
   "id": "b94af90c",
   "metadata": {},
   "outputs": [],
   "source": []
  },
  {
   "cell_type": "code",
   "execution_count": null,
   "id": "df0cce3b",
   "metadata": {},
   "outputs": [],
   "source": []
  },
  {
   "cell_type": "code",
   "execution_count": null,
   "id": "4d4f3efe",
   "metadata": {},
   "outputs": [],
   "source": []
  },
  {
   "cell_type": "code",
   "execution_count": null,
   "id": "62f75c78",
   "metadata": {},
   "outputs": [],
   "source": []
  },
  {
   "cell_type": "code",
   "execution_count": null,
   "id": "d80627fc",
   "metadata": {},
   "outputs": [],
   "source": []
  }
 ],
 "metadata": {
  "kernelspec": {
   "display_name": "Python 3 (ipykernel)",
   "language": "python",
   "name": "python3"
  },
  "language_info": {
   "codemirror_mode": {
    "name": "ipython",
    "version": 3
   },
   "file_extension": ".py",
   "mimetype": "text/x-python",
   "name": "python",
   "nbconvert_exporter": "python",
   "pygments_lexer": "ipython3",
   "version": "3.9.7"
  }
 },
 "nbformat": 4,
 "nbformat_minor": 5
}
